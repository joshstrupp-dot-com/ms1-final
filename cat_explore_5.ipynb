{
 "cells": [
  {
   "cell_type": "code",
   "execution_count": 2,
   "metadata": {},
   "outputs": [
    {
     "name": "stderr",
     "output_type": "stream",
     "text": [
      "/var/folders/pc/j_zmpc9s0g9frv2jzfv1l51c0000gn/T/ipykernel_96225/3972730330.py:3: DtypeWarning: Columns (8,16,17,18,24,25,26,27,28,41,42,43,44,45,46,47,48,52,54,55,56,62,65,70,71,73,75,76,77,79,81,82,83,90,96,100,104,105,106,113,115,117,120,121,122,123,124,125,127,136,137,139,141,143,146,147,150,151,154,156,159,160,168,169,173,174,176,177) have mixed types. Specify dtype option on import or set low_memory=False.\n",
      "  df = pd.read_csv('final_data.csv')\n"
     ]
    }
   ],
   "source": [
    "import pandas as pd\n",
    "\n",
    "df = pd.read_csv('final_data.csv')\n"
   ]
  },
  {
   "cell_type": "code",
   "execution_count": null,
   "metadata": {},
   "outputs": [],
   "source": []
  }
 ],
 "metadata": {
  "kernelspec": {
   "display_name": "Python (myenv)",
   "language": "python",
   "name": "myenv"
  },
  "language_info": {
   "codemirror_mode": {
    "name": "ipython",
    "version": 3
   },
   "file_extension": ".py",
   "mimetype": "text/x-python",
   "name": "python",
   "nbconvert_exporter": "python",
   "pygments_lexer": "ipython3",
   "version": "3.9.20"
  }
 },
 "nbformat": 4,
 "nbformat_minor": 2
}
