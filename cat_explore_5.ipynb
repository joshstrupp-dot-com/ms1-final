{
 "cells": [
  {
   "cell_type": "code",
   "execution_count": 1,
   "metadata": {},
   "outputs": [
    {
     "name": "stderr",
     "output_type": "stream",
     "text": [
      "/var/folders/pc/j_zmpc9s0g9frv2jzfv1l51c0000gn/T/ipykernel_83073/3972730330.py:3: DtypeWarning: Columns (8,16,17,18,24,25,26,27,28,41,42,43,44,45,46,47,48,52,54,55,56,62,65,70,71,73,75,76,77,79,81,82,83,90,96,100,104,105,106,113,115,117,120,121,122,123,124,125,127,136,137,139,141,143,146,147,150,151,154,156,159,160,168,169,173,174,176,177) have mixed types. Specify dtype option on import or set low_memory=False.\n",
      "  df = pd.read_csv('final_data.csv')\n"
     ]
    }
   ],
   "source": [
    "import pandas as pd\n",
    "\n",
    "df = pd.read_csv('final_data.csv')\n"
   ]
  },
  {
   "cell_type": "code",
   "execution_count": 2,
   "metadata": {},
   "outputs": [],
   "source": [
    "df_cat = pd.read_csv('final_data_cat.csv')\n"
   ]
  },
  {
   "cell_type": "code",
   "execution_count": 3,
   "metadata": {},
   "outputs": [
    {
     "name": "stdout",
     "output_type": "stream",
     "text": [
      "Columns with at least 80% non-null values:\n",
      "Name\n",
      "bounding_box\n",
      "Area\n",
      "Confidence\n",
      "cropped_image_path\n",
      "Image_Index\n",
      "Title\n",
      "Museum\n",
      "Location\n",
      "Credit Line\n",
      "See more items in\n",
      "Record ID\n",
      "Metadata Usage (text)\n",
      "GUID (Link to Original Record)\n",
      "Image_URL\n",
      "Sitter\n",
      "Object number\n",
      "Restrictions & Rights\n",
      "Type\n",
      "Medium_original\n",
      "Dimensions\n",
      "Topic_Raw\n",
      "combined_medium_text\n",
      "medium_cat\n",
      "medium\n",
      "topic_cat\n",
      "topic\n"
     ]
    }
   ],
   "source": [
    "# Calculate percentage of non-null values for each column\n",
    "non_null_pct = df_cat.count() / len(df_cat) * 100\n",
    "\n",
    "# Filter columns with >= 80% non-null values\n",
    "cols_80pct = non_null_pct[non_null_pct >= 80].index.tolist()\n",
    "\n",
    "print(\"Columns with at least 80% non-null values:\")\n",
    "print(\"\\n\".join(cols_80pct))\n"
   ]
  },
  {
   "cell_type": "code",
   "execution_count": null,
   "metadata": {},
   "outputs": [],
   "source": []
  }
 ],
 "metadata": {
  "kernelspec": {
   "display_name": "Python (myenv)",
   "language": "python",
   "name": "myenv"
  },
  "language_info": {
   "codemirror_mode": {
    "name": "ipython",
    "version": 3
   },
   "file_extension": ".py",
   "mimetype": "text/x-python",
   "name": "python",
   "nbconvert_exporter": "python",
   "pygments_lexer": "ipython3",
   "version": "3.9.20"
  }
 },
 "nbformat": 4,
 "nbformat_minor": 2
}
