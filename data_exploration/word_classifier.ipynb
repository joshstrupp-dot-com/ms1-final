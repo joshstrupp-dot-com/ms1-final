{
 "cells": [
  {
   "cell_type": "code",
   "execution_count": 1,
   "metadata": {},
   "outputs": [
    {
     "data": {
      "application/vnd.jupyter.widget-view+json": {
       "model_id": "ac62fe4be3b0482cb96c713499870177",
       "version_major": 2,
       "version_minor": 0
      },
      "text/plain": [
       "config.json:   0%|          | 0.00/1.04k [00:00<?, ?B/s]"
      ]
     },
     "metadata": {},
     "output_type": "display_data"
    },
    {
     "data": {
      "application/vnd.jupyter.widget-view+json": {
       "model_id": "db552d8bda7e4fc5880e00b154da4d45",
       "version_major": 2,
       "version_minor": 0
      },
      "text/plain": [
       "pytorch_model.bin:   0%|          | 0.00/431M [00:00<?, ?B/s]"
      ]
     },
     "metadata": {},
     "output_type": "display_data"
    },
    {
     "data": {
      "application/vnd.jupyter.widget-view+json": {
       "model_id": "bac524fbe24f44c1a584f4dd9a2570ea",
       "version_major": 2,
       "version_minor": 0
      },
      "text/plain": [
       "tokenizer_config.json:   0%|          | 0.00/320 [00:00<?, ?B/s]"
      ]
     },
     "metadata": {},
     "output_type": "display_data"
    },
    {
     "data": {
      "application/vnd.jupyter.widget-view+json": {
       "model_id": "73dd4a18df7344009744997b0fa5f918",
       "version_major": 2,
       "version_minor": 0
      },
      "text/plain": [
       "vocab.txt:   0%|          | 0.00/213k [00:00<?, ?B/s]"
      ]
     },
     "metadata": {},
     "output_type": "display_data"
    },
    {
     "data": {
      "application/vnd.jupyter.widget-view+json": {
       "model_id": "3de4688152524f2fa29318bb9a549225",
       "version_major": 2,
       "version_minor": 0
      },
      "text/plain": [
       "tokenizer.json:   0%|          | 0.00/436k [00:00<?, ?B/s]"
      ]
     },
     "metadata": {},
     "output_type": "display_data"
    },
    {
     "data": {
      "application/vnd.jupyter.widget-view+json": {
       "model_id": "99ba5a69147542c3846705097d55571e",
       "version_major": 2,
       "version_minor": 0
      },
      "text/plain": [
       "special_tokens_map.json:   0%|          | 0.00/112 [00:00<?, ?B/s]"
      ]
     },
     "metadata": {},
     "output_type": "display_data"
    },
    {
     "name": "stderr",
     "output_type": "stream",
     "text": [
      "Hardware accelerator e.g. GPU is available in the environment, but no `device` argument is passed to the `Pipeline` object. Model will be on CPU.\n"
     ]
    },
    {
     "data": {
      "text/plain": [
       "[{'entity_group': 'PER',\n",
       "  'score': 0.9988506,\n",
       "  'word': 'Sylvain',\n",
       "  'start': 11,\n",
       "  'end': 18},\n",
       " {'entity_group': 'ORG',\n",
       "  'score': 0.9647624,\n",
       "  'word': 'Hugging Face',\n",
       "  'start': 33,\n",
       "  'end': 45},\n",
       " {'entity_group': 'LOC',\n",
       "  'score': 0.9986118,\n",
       "  'word': 'Brooklyn',\n",
       "  'start': 49,\n",
       "  'end': 57}]"
      ]
     },
     "execution_count": 1,
     "metadata": {},
     "output_type": "execute_result"
    }
   ],
   "source": [
    "# from transformers import pipeline\n",
    "\n",
    "# # Replace this with your own checkpoint\n",
    "# model_checkpoint = \"huggingface-course/bert-finetuned-ner\"\n",
    "# token_classifier = pipeline(\n",
    "#     \"token-classification\", model=model_checkpoint, aggregation_strategy=\"simple\"\n",
    "# )\n",
    "# token_classifier(\"My name is Sylvain and I work at Hugging Face in Brooklyn.\")"
   ]
  },
  {
   "cell_type": "code",
   "execution_count": 3,
   "metadata": {},
   "outputs": [
    {
     "name": "stderr",
     "output_type": "stream",
     "text": [
      "Hardware accelerator e.g. GPU is available in the environment, but no `device` argument is passed to the `Pipeline` object. Model will be on CPU.\n"
     ]
    },
    {
     "data": {
      "text/plain": [
       "[{'entity_group': 'PER',\n",
       "  'score': 0.99906665,\n",
       "  'word': 'Lillian Evanti',\n",
       "  'start': 7,\n",
       "  'end': 21},\n",
       " {'entity_group': 'PER',\n",
       "  'score': 0.9971964,\n",
       "  'word': 'Lucia di Lammermour',\n",
       "  'start': 41,\n",
       "  'end': 60},\n",
       " {'entity_group': 'LOC',\n",
       "  'score': 0.97527486,\n",
       "  'word': 'Anacostia Community Museum',\n",
       "  'start': 84,\n",
       "  'end': 110},\n",
       " {'entity_group': 'PER',\n",
       "  'score': 0.99188304,\n",
       "  'word': 'Evanti',\n",
       "  'start': 145,\n",
       "  'end': 151},\n",
       " {'entity_group': 'PER',\n",
       "  'score': 0.9980574,\n",
       "  'word': 'Lillian',\n",
       "  'start': 153,\n",
       "  'end': 160},\n",
       " {'entity_group': 'PER',\n",
       "  'score': 0.99854106,\n",
       "  'word': 'Lillian Evans Tibbs',\n",
       "  'start': 168,\n",
       "  'end': 187},\n",
       " {'entity_group': 'ORG',\n",
       "  'score': 0.9680705,\n",
       "  'word': 'Apeda Studio',\n",
       "  'start': 262,\n",
       "  'end': 274},\n",
       " {'entity_group': 'LOC',\n",
       "  'score': 0.9989904,\n",
       "  'word': 'New York',\n",
       "  'start': 276,\n",
       "  'end': 284},\n",
       " {'entity_group': 'LOC',\n",
       "  'score': 0.9982224,\n",
       "  'word': 'N. Y.',\n",
       "  'start': 286,\n",
       "  'end': 290},\n",
       " {'entity_group': 'PER',\n",
       "  'score': 0.9858028,\n",
       "  'word': 'Camuzzi',\n",
       "  'start': 307,\n",
       "  'end': 314},\n",
       " {'entity_group': 'PER',\n",
       "  'score': 0.9527927,\n",
       "  'word': 'M',\n",
       "  'start': 316,\n",
       "  'end': 317},\n",
       " {'entity_group': 'PER',\n",
       "  'score': 0.8792854,\n",
       "  'word': 'Harris & Ewing',\n",
       "  'start': 334,\n",
       "  'end': 348},\n",
       " {'entity_group': 'PER',\n",
       "  'score': 0.9991775,\n",
       "  'word': 'Sommariva',\n",
       "  'start': 406,\n",
       "  'end': 415},\n",
       " {'entity_group': 'PER',\n",
       "  'score': 0.99704915,\n",
       "  'word': 'Emilio',\n",
       "  'start': 417,\n",
       "  'end': 423},\n",
       " {'entity_group': 'PER',\n",
       "  'score': 0.9988524,\n",
       "  'word': 'Harris',\n",
       "  'start': 464,\n",
       "  'end': 470},\n",
       " {'entity_group': 'PER',\n",
       "  'score': 0.9982091,\n",
       "  'word': 'Fred',\n",
       "  'start': 472,\n",
       "  'end': 476},\n",
       " {'entity_group': 'LOC',\n",
       "  'score': 0.9726494,\n",
       "  'word': 'Washington, D. C.',\n",
       "  'start': 524,\n",
       "  'end': 540},\n",
       " {'entity_group': 'LOC',\n",
       "  'score': 0.9995264,\n",
       "  'word': 'Italy',\n",
       "  'start': 644,\n",
       "  'end': 649},\n",
       " {'entity_group': 'MISC',\n",
       "  'score': 0.9942467,\n",
       "  'word': 'African American',\n",
       "  'start': 678,\n",
       "  'end': 694},\n",
       " {'entity_group': 'PER',\n",
       "  'score': 0.92790186,\n",
       "  'word': 'Evans - Tibbs',\n",
       "  'start': 757,\n",
       "  'end': 768},\n",
       " {'entity_group': 'PER',\n",
       "  'score': 0.91550046,\n",
       "  'word': 'Evans - Tibbs',\n",
       "  'start': 795,\n",
       "  'end': 806},\n",
       " {'entity_group': 'LOC',\n",
       "  'score': 0.91303957,\n",
       "  'word': 'Anacostia Community Museum',\n",
       "  'start': 1141,\n",
       "  'end': 1167},\n",
       " {'entity_group': 'ORG',\n",
       "  'score': 0.83999825,\n",
       "  'word': 'ACMA',\n",
       "  'start': 1226,\n",
       "  'end': 1230},\n",
       " {'entity_group': 'PER',\n",
       "  'score': 0.99751055,\n",
       "  'word': 'Evans - Tibbs',\n",
       "  'start': 1479,\n",
       "  'end': 1490},\n",
       " {'entity_group': 'LOC',\n",
       "  'score': 0.9691666,\n",
       "  'word': 'Anacostia Community Museum',\n",
       "  'start': 1503,\n",
       "  'end': 1529},\n",
       " {'entity_group': 'LOC',\n",
       "  'score': 0.93821526,\n",
       "  'word': 'Smithsonian Institution',\n",
       "  'start': 1530,\n",
       "  'end': 1553},\n",
       " {'entity_group': 'LOC',\n",
       "  'score': 0.9882436,\n",
       "  'word': 'Thurlow',\n",
       "  'start': 1560,\n",
       "  'end': 1567},\n",
       " {'entity_group': 'PER',\n",
       "  'score': 0.87025374,\n",
       "  'word': 'Lillian',\n",
       "  'start': 2048,\n",
       "  'end': 2055}]"
      ]
     },
     "execution_count": 3,
     "metadata": {},
     "output_type": "execute_result"
    }
   ],
   "source": [
    "from transformers import pipeline\n",
    "\n",
    "with open('/Users/joshstrupp/Documents/Working/Educational/MSDV/ms1-final/notebook_explore/notebooks/smithsonian_collection.json', 'r') as file:\n",
    "    text = file.read()\n",
    "\n",
    "# Replace this with your own checkpoint\n",
    "model_checkpoint = \"huggingface-course/bert-finetuned-ner\"\n",
    "token_classifier = pipeline(\n",
    "    \"token-classification\", model=model_checkpoint, aggregation_strategy=\"simple\"\n",
    ")\n",
    "\n",
    "# Get results and filter by score\n",
    "results = token_classifier(text)\n",
    "filtered_results = [entity for entity in results if entity['score'] >= 0.8]\n",
    "\n",
    "# Display filtered results\n",
    "filtered_results"
   ]
  },
  {
   "cell_type": "code",
   "execution_count": null,
   "metadata": {},
   "outputs": [],
   "source": []
  }
 ],
 "metadata": {
  "kernelspec": {
   "display_name": "my_env",
   "language": "python",
   "name": "my_env"
  },
  "language_info": {
   "codemirror_mode": {
    "name": "ipython",
    "version": 3
   },
   "file_extension": ".py",
   "mimetype": "text/x-python",
   "name": "python",
   "nbconvert_exporter": "python",
   "pygments_lexer": "ipython3",
   "version": "3.12.4"
  }
 },
 "nbformat": 4,
 "nbformat_minor": 2
}
